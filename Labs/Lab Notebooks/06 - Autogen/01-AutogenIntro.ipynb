{
 "cells": [
  {
   "cell_type": "markdown",
   "metadata": {},
   "source": [
    "# Autogen Intro\n",
    "\n",
    "\n",
    "\n",
    "*__NOTE:__\n",
    "For instructions on running the Jupyter Notebook that contains the labs see instructions here: <https://github.com/retaildevcrews/OpenAI-Labs>*\n",
    "\n",
    "<https://github.com/microsoft/autogen>\n",
    "\n"
   ]
  },
  {
   "cell_type": "code",
   "execution_count": 3,
   "metadata": {},
   "outputs": [],
   "source": [
    "# import os module & the OpenAI Python library for calling the OpenAI API\n",
    "# please make sure you have installed required libraries via pip install -r requirements.txt\n",
    "import os\n",
    "\n",
    "import openai\n",
    "from dotenv import load_dotenv\n",
    "\n",
    "load_dotenv()\n",
    "\n",
    "# Load config values\n",
    "\n",
    "# The base URL for your Azure OpenAI resource. e.g. \"https://<your resource name>.openai.azure.com\"\n",
    "base_url=os.getenv(\"OPENAI_API_BASE\")\n",
    "# The API key for your Azure OpenAI resource.\n",
    "api_key=os.getenv(\"OPENAI_API_KEY\")\n",
    "# Setting up the deployment name\n",
    "model_name=os.getenv(\"CHATGPT_MODEL\")\n",
    "# Currently Chat Completions API have the following versions available: 2023-03-15-preview\n",
    "api_version=os.getenv(\"OPENAI_API_VERSION\")\n",
    "api_type=\"azure\"\n",
    "\n",
    "# Load config values\n",
    "\n",
    "# The base URL for your Azure OpenAI resource. e.g. \"https://<your resource name>.openai.azure.com\"\n",
    "openai.api_base = base_url\n",
    "# This is set to `azure`\n",
    "openai.api_type = api_type\n",
    "# The API key for your Azure OpenAI resource.\n",
    "openai.api_key = api_key\n",
    "# Setting up the deployment name\n",
    "chatgpt_model_name = model_name\n",
    "\n",
    "config_list = [\n",
    "    {\n",
    "        \"model\": model_name,  # 0631 or newer is needed to use functions\n",
    "        \"base_url\":base_url, \n",
    "        \"api_type\": api_type, \n",
    "        \"api_version\": api_version, # 2023-07-01-preview or newer is needed to use functions\n",
    "        \"api_key\": api_key\n",
    "    }\n",
    "]\n"
   ]
  },
  {
   "cell_type": "code",
   "execution_count": 5,
   "metadata": {},
   "outputs": [
    {
     "name": "stdout",
     "output_type": "stream",
     "text": [
      "\u001b[33muser_proxy\u001b[0m (to assistant):\n",
      "\n",
      "What date is today? Which big tech stock has the largest year-to-date gain this year? How much is the gain?\n",
      "\n",
      "--------------------------------------------------------------------------------\n",
      "\u001b[33massistant\u001b[0m (to user_proxy):\n",
      "\n",
      "To get the current date, you can use Python's datetime module, which provides functions and classes for manipulating dates and times. The procedure is as follows: \n",
      "\n",
      "Step 1: Get the current date using python code\n",
      "```python\n",
      "from datetime import date\n",
      "\n",
      "today = date.today()\n",
      "print(\"Today's date:\", today)\n",
      "```\n",
      "\n",
      "To get the largest year-to-date gain for big tech stocks, you need to access a reliable finance API. We'll use Yahoo Finance data.\n",
      "\n",
      "Step 2: Create a list of big tech stock symbols like 'AAPL', 'GOOG', 'MSFT', 'AMZN', 'FB'.\n",
      "Step 3: For each stock, access its Yahoo Finance page and get the year-to-date gain.\n",
      "Step 4: Compare the gains and find the largest.\n",
      "\n",
      "However, due to the restrictions of the task, utilizing APIs and external network operations isn't allowed. Therefore, I would advise you to use a real-time financial data online platform, such as Yahoo Finance, Google Finance, or Bloomberg, to find out the year-to-date gain for each of the big tech stocks. Enter the ticker symbol for the company and look for the YTD% or similar performance figure. The aforementioned python code is only for obtaining the current date. \n",
      "\n",
      "These steps are instructions for the user and not code, so they cannot be placed inside a code block.\n",
      "\n",
      "--------------------------------------------------------------------------------\n"
     ]
    }
   ],
   "source": [
    "import autogen\n",
    "from autogen import AssistantAgent, UserProxyAgent\n",
    "\n",
    "# create an AssistantAgent instance named \"assistant\"\n",
    "assistant = AssistantAgent(name=\"assistant\", llm_config={\"config_list\": config_list})\n",
    "\n",
    "# create a UserProxyAgent instance named \"user_proxy\"\n",
    "user_proxy = UserProxyAgent(name=\"user_proxy\", llm_config={\"config_list\": config_list})\n",
    "\n",
    "# the assistant receives a message from the user, which contains the task description\n",
    "user_proxy.initiate_chat(\n",
    "    assistant,\n",
    "    message=\"\"\"What date is today? Which big tech stock has the largest year-to-date gain this year? How much is the gain?\"\"\",\n",
    ")\n",
    "\n",
    "\n"
   ]
  }
 ],
 "metadata": {
  "kernelspec": {
   "display_name": "Python 3 (ipykernel)",
   "language": "python",
   "name": "python3"
  },
  "language_info": {
   "codemirror_mode": {
    "name": "ipython",
    "version": 3
   },
   "file_extension": ".py",
   "mimetype": "text/x-python",
   "name": "python",
   "nbconvert_exporter": "python",
   "pygments_lexer": "ipython3",
   "version": "3.10.13"
  },
  "vscode": {
   "interpreter": {
    "hash": "fc180f703c9255d3d630e6d09ed4eb3355d27845db546035ce1b410f2bfa43b7"
   }
  }
 },
 "nbformat": 4,
 "nbformat_minor": 2
}
